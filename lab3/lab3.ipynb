{
 "cells": [
  {
   "cell_type": "markdown",
   "id": "84261a7b",
   "metadata": {},
   "source": [
    "\n",
    "# Практична робота №3 — Класифікація твітів за тональністю (Word2Vec + scikit-learn)\n",
    "\n"
   ]
  },
  {
   "cell_type": "code",
   "execution_count": 9,
   "id": "22d94cce",
   "metadata": {},
   "outputs": [
    {
     "name": "stdout",
     "output_type": "stream",
     "text": [
      "Working directory: c:\\Users\\iryna.sitka\\Desktop\\ML\\lab3\n"
     ]
    }
   ],
   "source": [
    "\n",
    "# Блок 0 — Імпорти та перевірка оточення\n",
    "import os\n",
    "print(\"Working directory:\", os.getcwd())\n",
    "\n",
    "# Основні бібліотеки\n",
    "import numpy as np, pandas as pd\n",
    "import matplotlib.pyplot as plt\n",
    "from sklearn.model_selection import train_test_split, cross_val_score\n",
    "from sklearn.metrics import accuracy_score, classification_report, confusion_matrix\n",
    "from sklearn.decomposition import PCA\n",
    "from sklearn.pipeline import Pipeline\n",
    "from sklearn.preprocessing import StandardScaler\n",
    "from sklearn.linear_model import LogisticRegression\n",
    "from sklearn.svm import SVC\n",
    "from sklearn.ensemble import RandomForestClassifier\n",
    "from sklearn.naive_bayes import GaussianNB\n",
    "from gensim.models import Word2Vec\n",
    "import re, string, random\n",
    "from collections import Counter\n",
    "\n",
    "# Для кращого відображення в ноутбуку\n",
    "%matplotlib inline\n"
   ]
  },
  {
   "cell_type": "code",
   "execution_count": null,
   "id": "49addbe4",
   "metadata": {},
   "outputs": [
    {
     "name": "stdout",
     "output_type": "stream",
     "text": [
      "Loaded dataset from Corona_NLP_test.csv — shape: (3798, 6)\n"
     ]
    },
    {
     "data": {
      "text/plain": [
       "Index(['UserName', 'ScreenName', 'Location', 'TweetAt', 'OriginalTweet',\n",
       "       'Sentiment'],\n",
       "      dtype='object')"
      ]
     },
     "execution_count": 10,
     "metadata": {},
     "output_type": "execute_result"
    }
   ],
   "source": [
    "\n",
    "# Блок 1 — Завантаження даних (шукаємо у data/)\n",
    "data_paths = [\n",
    "    'Corona_NLP_test.csv',\n",
    "    'data/covid_tweets.csv',\n",
    "    'Corona_NLP_test.csv',\n",
    "    'covid_tweets.csv'\n",
    "]\n",
    "df = None\n",
    "for p in data_paths:\n",
    "    if os.path.exists(p):\n",
    "        try:\n",
    "            df = pd.read_csv(p, encoding='utf-8', low_memory=False)\n",
    "            print(f\"Loaded dataset from {p} — shape:\", df.shape)\n",
    "            break\n",
    "        except Exception as e:\n",
    "            print(\"Помилка при читанні\", p, e)\n",
    "\n",
    "if df is None:\n",
    "    print(\"Датасет не знайдено. Згенеруємо маленький synthetic dataset для демонстрації.\")\n",
    "    data = {\n",
    "        'Location': ['World']*12,\n",
    "        'Tweet At': pd.date_range('2020-03-01', periods=12).astype(str),\n",
    "        'Original Tweet': [\n",
    "            \"I am happy with the vaccine news\",\n",
    "            \"This lockdown is terrible and depressing\",\n",
    "            \"Totally neutral statement about weather\",\n",
    "            \"Grateful to the healthcare workers!\",\n",
    "            \"I hate how the economy collapsed\",\n",
    "            \"Mixed feelings, not sure what to think\",\n",
    "            \"Positive results from study - hope!\",\n",
    "            \"Angry about lack of support\",\n",
    "            \"Other commentary without sentiment\",\n",
    "            \"I feel optimistic\",\n",
    "            \"The situation is bad and scary\",\n",
    "            \"Nothing to add\"\n",
    "        ],\n",
    "        'Label': ['Positive','Negative','Other','Positive','Negative','Other','Positive','Negative','Other','Positive','Negative','Other']\n",
    "    }\n",
    "    df = pd.DataFrame(data)\n",
    "    print(\"Synthetic dataset shape:\", df.shape)\n",
    "\n",
    "# Keep only required columns\n",
    "if 'OriginalTweet' in df.columns and 'Sentiment' in df.columns:\n",
    "    df = df[['OriginalTweet', 'Sentiment']].rename(columns={'OriginalTweet':'text','Sentiment':'label'})\n",
    "else:\n",
    "    raise ValueError(\"Відсутні потрібні колонки 'Original Tweet' або 'Sentiment' у вашому CSV.\")\n",
    "df.head(3)\n"
   ]
  },
  {
   "cell_type": "code",
   "execution_count": 11,
   "id": "acc8944b",
   "metadata": {},
   "outputs": [
    {
     "ename": "KeyError",
     "evalue": "'text'",
     "output_type": "error",
     "traceback": [
      "\u001b[31m---------------------------------------------------------------------------\u001b[39m",
      "\u001b[31mKeyError\u001b[39m                                  Traceback (most recent call last)",
      "\u001b[36mFile \u001b[39m\u001b[32mc:\\Users\\iryna.sitka\\AppData\\Local\\Programs\\Python\\Python313\\Lib\\site-packages\\pandas\\core\\indexes\\base.py:3812\u001b[39m, in \u001b[36mIndex.get_loc\u001b[39m\u001b[34m(self, key)\u001b[39m\n\u001b[32m   3811\u001b[39m \u001b[38;5;28;01mtry\u001b[39;00m:\n\u001b[32m-> \u001b[39m\u001b[32m3812\u001b[39m     \u001b[38;5;28;01mreturn\u001b[39;00m \u001b[38;5;28;43mself\u001b[39;49m\u001b[43m.\u001b[49m\u001b[43m_engine\u001b[49m\u001b[43m.\u001b[49m\u001b[43mget_loc\u001b[49m\u001b[43m(\u001b[49m\u001b[43mcasted_key\u001b[49m\u001b[43m)\u001b[49m\n\u001b[32m   3813\u001b[39m \u001b[38;5;28;01mexcept\u001b[39;00m \u001b[38;5;167;01mKeyError\u001b[39;00m \u001b[38;5;28;01mas\u001b[39;00m err:\n",
      "\u001b[36mFile \u001b[39m\u001b[32mpandas/_libs/index.pyx:167\u001b[39m, in \u001b[36mpandas._libs.index.IndexEngine.get_loc\u001b[39m\u001b[34m()\u001b[39m\n",
      "\u001b[36mFile \u001b[39m\u001b[32mpandas/_libs/index.pyx:196\u001b[39m, in \u001b[36mpandas._libs.index.IndexEngine.get_loc\u001b[39m\u001b[34m()\u001b[39m\n",
      "\u001b[36mFile \u001b[39m\u001b[32mpandas/_libs/hashtable_class_helper.pxi:7088\u001b[39m, in \u001b[36mpandas._libs.hashtable.PyObjectHashTable.get_item\u001b[39m\u001b[34m()\u001b[39m\n",
      "\u001b[36mFile \u001b[39m\u001b[32mpandas/_libs/hashtable_class_helper.pxi:7096\u001b[39m, in \u001b[36mpandas._libs.hashtable.PyObjectHashTable.get_item\u001b[39m\u001b[34m()\u001b[39m\n",
      "\u001b[31mKeyError\u001b[39m: 'text'",
      "\nThe above exception was the direct cause of the following exception:\n",
      "\u001b[31mKeyError\u001b[39m                                  Traceback (most recent call last)",
      "\u001b[36mCell\u001b[39m\u001b[36m \u001b[39m\u001b[32mIn[11]\u001b[39m\u001b[32m, line 19\u001b[39m\n\u001b[32m     16\u001b[39m     \u001b[38;5;28;01mreturn\u001b[39;00m tokens\n\u001b[32m     18\u001b[39m \u001b[38;5;66;03m# Apply preprocessing\u001b[39;00m\n\u001b[32m---> \u001b[39m\u001b[32m19\u001b[39m df[\u001b[33m'\u001b[39m\u001b[33mtokens\u001b[39m\u001b[33m'\u001b[39m] = \u001b[43mdf\u001b[49m\u001b[43m[\u001b[49m\u001b[33;43m'\u001b[39;49m\u001b[33;43mtext\u001b[39;49m\u001b[33;43m'\u001b[39;49m\u001b[43m]\u001b[49m.apply(preprocess)\n\u001b[32m     20\u001b[39m df[\u001b[33m'\u001b[39m\u001b[33mtoken_len\u001b[39m\u001b[33m'\u001b[39m] = df[\u001b[33m'\u001b[39m\u001b[33mtokens\u001b[39m\u001b[33m'\u001b[39m].apply(\u001b[38;5;28mlen\u001b[39m)\n\u001b[32m     21\u001b[39m \u001b[38;5;28mprint\u001b[39m(\u001b[33m\"\u001b[39m\u001b[33mToken length distribution:\u001b[39m\u001b[33m\"\u001b[39m, df[\u001b[33m'\u001b[39m\u001b[33mtoken_len\u001b[39m\u001b[33m'\u001b[39m].describe())\n",
      "\u001b[36mFile \u001b[39m\u001b[32mc:\\Users\\iryna.sitka\\AppData\\Local\\Programs\\Python\\Python313\\Lib\\site-packages\\pandas\\core\\frame.py:4107\u001b[39m, in \u001b[36mDataFrame.__getitem__\u001b[39m\u001b[34m(self, key)\u001b[39m\n\u001b[32m   4105\u001b[39m \u001b[38;5;28;01mif\u001b[39;00m \u001b[38;5;28mself\u001b[39m.columns.nlevels > \u001b[32m1\u001b[39m:\n\u001b[32m   4106\u001b[39m     \u001b[38;5;28;01mreturn\u001b[39;00m \u001b[38;5;28mself\u001b[39m._getitem_multilevel(key)\n\u001b[32m-> \u001b[39m\u001b[32m4107\u001b[39m indexer = \u001b[38;5;28;43mself\u001b[39;49m\u001b[43m.\u001b[49m\u001b[43mcolumns\u001b[49m\u001b[43m.\u001b[49m\u001b[43mget_loc\u001b[49m\u001b[43m(\u001b[49m\u001b[43mkey\u001b[49m\u001b[43m)\u001b[49m\n\u001b[32m   4108\u001b[39m \u001b[38;5;28;01mif\u001b[39;00m is_integer(indexer):\n\u001b[32m   4109\u001b[39m     indexer = [indexer]\n",
      "\u001b[36mFile \u001b[39m\u001b[32mc:\\Users\\iryna.sitka\\AppData\\Local\\Programs\\Python\\Python313\\Lib\\site-packages\\pandas\\core\\indexes\\base.py:3819\u001b[39m, in \u001b[36mIndex.get_loc\u001b[39m\u001b[34m(self, key)\u001b[39m\n\u001b[32m   3814\u001b[39m     \u001b[38;5;28;01mif\u001b[39;00m \u001b[38;5;28misinstance\u001b[39m(casted_key, \u001b[38;5;28mslice\u001b[39m) \u001b[38;5;129;01mor\u001b[39;00m (\n\u001b[32m   3815\u001b[39m         \u001b[38;5;28misinstance\u001b[39m(casted_key, abc.Iterable)\n\u001b[32m   3816\u001b[39m         \u001b[38;5;129;01mand\u001b[39;00m \u001b[38;5;28many\u001b[39m(\u001b[38;5;28misinstance\u001b[39m(x, \u001b[38;5;28mslice\u001b[39m) \u001b[38;5;28;01mfor\u001b[39;00m x \u001b[38;5;129;01min\u001b[39;00m casted_key)\n\u001b[32m   3817\u001b[39m     ):\n\u001b[32m   3818\u001b[39m         \u001b[38;5;28;01mraise\u001b[39;00m InvalidIndexError(key)\n\u001b[32m-> \u001b[39m\u001b[32m3819\u001b[39m     \u001b[38;5;28;01mraise\u001b[39;00m \u001b[38;5;167;01mKeyError\u001b[39;00m(key) \u001b[38;5;28;01mfrom\u001b[39;00m\u001b[38;5;250m \u001b[39m\u001b[34;01merr\u001b[39;00m\n\u001b[32m   3820\u001b[39m \u001b[38;5;28;01mexcept\u001b[39;00m \u001b[38;5;167;01mTypeError\u001b[39;00m:\n\u001b[32m   3821\u001b[39m     \u001b[38;5;66;03m# If we have a listlike key, _check_indexing_error will raise\u001b[39;00m\n\u001b[32m   3822\u001b[39m     \u001b[38;5;66;03m#  InvalidIndexError. Otherwise we fall through and re-raise\u001b[39;00m\n\u001b[32m   3823\u001b[39m     \u001b[38;5;66;03m#  the TypeError.\u001b[39;00m\n\u001b[32m   3824\u001b[39m     \u001b[38;5;28mself\u001b[39m._check_indexing_error(key)\n",
      "\u001b[31mKeyError\u001b[39m: 'text'"
     ]
    }
   ],
   "source": [
    "\n",
    "import nltk\n",
    "nltk.download('stopwords', quiet=True)\n",
    "from nltk.corpus import stopwords\n",
    "STOPWORDS = set(stopwords.words('english'))\n",
    "\n",
    "def preprocess(text):\n",
    "    # Lowercase\n",
    "    text = str(text).lower()\n",
    "    # Remove URLs, mentions, hashtags (keep hashtag text), punctuation, digits\n",
    "    text = re.sub(r'http\\S+|www\\S+', '', text)\n",
    "    text = re.sub(r'@\\w+', '', text)\n",
    "    text = re.sub(r'[^a-z\\s#]', ' ', text)\n",
    "    tokens = text.split()\n",
    "    # Remove stopwords and short tokens\n",
    "    tokens = [t.lstrip('#') for t in tokens if t not in STOPWORDS and len(t)>1]\n",
    "    return tokens\n",
    "\n",
    "# Apply preprocessing\n",
    "df['tokens'] = df['text'].apply(preprocess)\n",
    "df['token_len'] = df['tokens'].apply(len)\n",
    "print(\"Token length distribution:\", df['token_len'].describe())\n",
    "df.head(3)\n"
   ]
  },
  {
   "cell_type": "code",
   "execution_count": null,
   "id": "be12fe2d",
   "metadata": {},
   "outputs": [
    {
     "name": "stdout",
     "output_type": "stream",
     "text": [
      "Word2Vec vocabulary size: 37\n",
      "Embeddings shape: (12, 100)\n"
     ]
    }
   ],
   "source": [
    "\n",
    "# Блок 3 — Навчання Word2Vec (або використання pre-trained)\n",
    "sentences = df['tokens'].tolist()\n",
    "# Якщо sentences дуже малі — можемо додати дублікати для тренування прикладу\n",
    "if len(sentences) < 50:\n",
    "    sentences = sentences * 20\n",
    "\n",
    "w2v_params = dict(vector_size=100, window=5, min_count=1, workers=1, epochs=50)\n",
    "w2v = Word2Vec(sentences, **w2v_params)\n",
    "print(\"Word2Vec vocabulary size:\", len(w2v.wv.index_to_key))\n",
    "\n",
    "def tweet_vector(tokens, model):\n",
    "    # average word vectors; if token not in vocab — skip\n",
    "    vecs = [model.wv[t] for t in tokens if t in model.wv.key_to_index]\n",
    "    if len(vecs)==0:\n",
    "        return np.zeros(model.vector_size)\n",
    "    return np.mean(vecs, axis=0)\n",
    "\n",
    "# Create embedding matrix for tweets\n",
    "X_emb = np.vstack(df['tokens'].apply(lambda toks: tweet_vector(toks, w2v)).values)\n",
    "y = df['label'].values\n",
    "print(\"Embeddings shape:\", X_emb.shape)\n"
   ]
  },
  {
   "cell_type": "code",
   "execution_count": null,
   "id": "bf88b27c",
   "metadata": {},
   "outputs": [
    {
     "name": "stdout",
     "output_type": "stream",
     "text": [
      "Train shape: (9, 100) Test shape: (3, 100)\n"
     ]
    }
   ],
   "source": [
    "\n",
    "# Блок 4 — Розподіл на train/test\n",
    "X_train, X_test, y_train, y_test = train_test_split(X_emb, y, test_size=0.2, random_state=42, stratify=y)\n",
    "print(\"Train shape:\", X_train.shape, \"Test shape:\", X_test.shape)\n"
   ]
  },
  {
   "cell_type": "code",
   "execution_count": null,
   "id": "508f4c02",
   "metadata": {},
   "outputs": [
    {
     "name": "stdout",
     "output_type": "stream",
     "text": [
      "\n",
      "--- PCA components: None\n",
      "LogisticRegression: acc=0.667\n",
      "SVM: acc=0.333\n",
      "RandomForest: acc=0.333\n",
      "NaiveBayes: acc=0.333\n",
      "\n",
      "--- PCA components: 50\n",
      "Помилка для LogisticRegression з PCA 50 n_components=50 must be between 0 and min(n_samples, n_features)=9 with svd_solver='full'\n",
      "Помилка для SVM з PCA 50 n_components=50 must be between 0 and min(n_samples, n_features)=9 with svd_solver='full'\n",
      "Помилка для RandomForest з PCA 50 n_components=50 must be between 0 and min(n_samples, n_features)=9 with svd_solver='full'\n",
      "Помилка для NaiveBayes з PCA 50 n_components=50 must be between 0 and min(n_samples, n_features)=9 with svd_solver='full'\n",
      "\n",
      "--- PCA components: 100\n",
      "Помилка для LogisticRegression з PCA 100 n_components=100 must be between 0 and min(n_samples, n_features)=9 with svd_solver='full'\n",
      "Помилка для SVM з PCA 100 n_components=100 must be between 0 and min(n_samples, n_features)=9 with svd_solver='full'\n",
      "Помилка для RandomForest з PCA 100 n_components=100 must be between 0 and min(n_samples, n_features)=9 with svd_solver='full'\n",
      "Помилка для NaiveBayes з PCA 100 n_components=100 must be between 0 and min(n_samples, n_features)=9 with svd_solver='full'\n",
      "\n",
      "--- PCA components: 200\n",
      "Помилка для LogisticRegression з PCA 200 n_components=100 must be between 0 and min(n_samples, n_features)=9 with svd_solver='full'\n",
      "Помилка для SVM з PCA 200 n_components=100 must be between 0 and min(n_samples, n_features)=9 with svd_solver='full'\n",
      "Помилка для RandomForest з PCA 200 n_components=100 must be between 0 and min(n_samples, n_features)=9 with svd_solver='full'\n",
      "Помилка для NaiveBayes з PCA 200 n_components=100 must be between 0 and min(n_samples, n_features)=9 with svd_solver='full'\n"
     ]
    }
   ],
   "source": [
    "\n",
    "# Блок 5 — Тренування моделей і оцінка для різних налаштувань PCA\n",
    "models = {\n",
    "    'LogisticRegression': LogisticRegression(max_iter=1000),\n",
    "    'SVM': SVC(probability=True),\n",
    "    'RandomForest': RandomForestClassifier(n_estimators=100),\n",
    "    'NaiveBayes': GaussianNB()\n",
    "}\n",
    "\n",
    "pca_components = [None, 50, 100, 200]  # None означає без PCA\n",
    "results = []\n",
    "\n",
    "from sklearn.preprocessing import LabelEncoder\n",
    "le = LabelEncoder()\n",
    "y_train_enc = le.fit_transform(y_train)\n",
    "y_test_enc = le.transform(y_test)\n",
    "\n",
    "for n_comp in pca_components:\n",
    "    print(\"\\n--- PCA components:\", n_comp)\n",
    "    # Build pipeline\n",
    "    steps = [('scaler', StandardScaler())]\n",
    "    if n_comp is not None:\n",
    "        steps.append(('pca', PCA(n_components=min(n_comp, X_train.shape[1]))))\n",
    "    # We'll train each model separately (append classifier last)\n",
    "    for mname, m in models.items():\n",
    "        pipe_steps = steps + [('clf', m)]\n",
    "        pipe = Pipeline(pipe_steps)\n",
    "        try:\n",
    "            pipe.fit(X_train, y_train_enc)\n",
    "            preds = pipe.predict(X_test)\n",
    "            acc = accuracy_score(y_test_enc, preds)\n",
    "            crep = classification_report(y_test_enc, preds, output_dict=True, zero_division=0)\n",
    "            cm = confusion_matrix(y_test_enc, preds)\n",
    "            results.append({\n",
    "                'model': mname, 'pca': n_comp, 'accuracy': acc, 'report': crep, 'confusion_matrix': cm\n",
    "            })\n",
    "            print(f\"{mname}: acc={acc:.3f}\")\n",
    "        except Exception as e:\n",
    "            print(\"Помилка для\", mname, \"з PCA\", n_comp, e)\n"
   ]
  },
  {
   "cell_type": "code",
   "execution_count": null,
   "id": "3dba806d",
   "metadata": {},
   "outputs": [
    {
     "data": {
      "text/html": [
       "<div>\n",
       "<style scoped>\n",
       "    .dataframe tbody tr th:only-of-type {\n",
       "        vertical-align: middle;\n",
       "    }\n",
       "\n",
       "    .dataframe tbody tr th {\n",
       "        vertical-align: top;\n",
       "    }\n",
       "\n",
       "    .dataframe thead th {\n",
       "        text-align: right;\n",
       "    }\n",
       "</style>\n",
       "<table border=\"1\" class=\"dataframe\">\n",
       "  <thead>\n",
       "    <tr style=\"text-align: right;\">\n",
       "      <th></th>\n",
       "      <th>model</th>\n",
       "      <th>pca</th>\n",
       "      <th>accuracy</th>\n",
       "      <th>macro_f1</th>\n",
       "    </tr>\n",
       "  </thead>\n",
       "  <tbody>\n",
       "    <tr>\n",
       "      <th>0</th>\n",
       "      <td>LogisticRegression</td>\n",
       "      <td>None</td>\n",
       "      <td>0.666667</td>\n",
       "      <td>0.555556</td>\n",
       "    </tr>\n",
       "    <tr>\n",
       "      <th>1</th>\n",
       "      <td>SVM</td>\n",
       "      <td>None</td>\n",
       "      <td>0.333333</td>\n",
       "      <td>0.333333</td>\n",
       "    </tr>\n",
       "    <tr>\n",
       "      <th>2</th>\n",
       "      <td>RandomForest</td>\n",
       "      <td>None</td>\n",
       "      <td>0.333333</td>\n",
       "      <td>0.222222</td>\n",
       "    </tr>\n",
       "    <tr>\n",
       "      <th>3</th>\n",
       "      <td>NaiveBayes</td>\n",
       "      <td>None</td>\n",
       "      <td>0.333333</td>\n",
       "      <td>0.166667</td>\n",
       "    </tr>\n",
       "  </tbody>\n",
       "</table>\n",
       "</div>"
      ],
      "text/plain": [
       "                model   pca  accuracy  macro_f1\n",
       "0  LogisticRegression  None  0.666667  0.555556\n",
       "1                 SVM  None  0.333333  0.333333\n",
       "2        RandomForest  None  0.333333  0.222222\n",
       "3          NaiveBayes  None  0.333333  0.166667"
      ]
     },
     "metadata": {},
     "output_type": "display_data"
    },
    {
     "data": {
      "image/png": "[encoded data removed]",
      "text/plain": [
       "<Figure size 800x500 with 1 Axes>"
      ]
     },
     "metadata": {},
     "output_type": "display_data"
    }
   ],
   "source": [
    "\n",
    "# Блок 6 — Представлення результатів (подати таблицю метрик і графік впливу PCA)\n",
    "import pandas as pd, seaborn as sns\n",
    "# Aggregate key metrics\n",
    "rows = []\n",
    "for r in results:\n",
    "    # macro F1 as summary\n",
    "    report = r['report']\n",
    "    # compute macro avg f1 if available\n",
    "    macro_f1 = report.get('macro avg', {}).get('f1-score', None)\n",
    "    rows.append({'model':r['model'], 'pca':str(r['pca']), 'accuracy':r['accuracy'], 'macro_f1':macro_f1})\n",
    "\n",
    "res_df = pd.DataFrame(rows)\n",
    "display(res_df)\n",
    "\n",
    "# Plot accuracy by model and PCA\n",
    "plt.figure(figsize=(8,5))\n",
    "for m in res_df['model'].unique():\n",
    "    subset = res_df[res_df['model']==m]\n",
    "    plt.plot(subset['pca'], subset['accuracy'], marker='o', label=m)\n",
    "plt.title('Accuracy by model and PCA setting')\n",
    "plt.xlabel('PCA components (None means no PCA)')\n",
    "plt.ylabel('Accuracy')\n",
    "plt.legend()\n",
    "plt.grid(True)\n",
    "plt.show()\n"
   ]
  },
  {
   "cell_type": "code",
   "execution_count": null,
   "id": "c93ee9b8",
   "metadata": {},
   "outputs": [
    {
     "name": "stdout",
     "output_type": "stream",
     "text": [
      "Best model: LogisticRegression PCA: None Accuracy: 0.6666666666666666\n"
     ]
    },
    {
     "data": {
      "image/png": "[encoded data removed]",
      "text/plain": [
       "<Figure size 500x400 with 2 Axes>"
      ]
     },
     "metadata": {},
     "output_type": "display_data"
    },
    {
     "name": "stdout",
     "output_type": "stream",
     "text": [
      "{'0': {'f1-score': 1.0, 'precision': 1.0, 'recall': 1.0, 'support': 1.0},\n",
      " '1': {'f1-score': 0.6666666666666666,\n",
      "       'precision': 0.5,\n",
      "       'recall': 1.0,\n",
      "       'support': 1.0},\n",
      " '2': {'f1-score': 0.0, 'precision': 0.0, 'recall': 0.0, 'support': 1.0},\n",
      " 'accuracy': 0.6666666666666666,\n",
      " 'macro avg': {'f1-score': 0.5555555555555555,\n",
      "               'precision': 0.5,\n",
      "               'recall': 0.6666666666666666,\n",
      "               'support': 3.0},\n",
      " 'weighted avg': {'f1-score': 0.5555555555555555,\n",
      "                  'precision': 0.5,\n",
      "                  'recall': 0.6666666666666666,\n",
      "                  'support': 3.0}}\n"
     ]
    }
   ],
   "source": [
    "\n",
    "# Блок 7 — Confusion Matrix для найкращої моделі за accuracy\n",
    "best = max(results, key=lambda x: x['accuracy'])\n",
    "print(\"Best model:\", best['model'], \"PCA:\", best['pca'], \"Accuracy:\", best['accuracy'])\n",
    "cm = best['confusion_matrix']\n",
    "labels = le.inverse_transform(sorted(set(y_test_enc)))\n",
    "plt.figure(figsize=(5,4))\n",
    "sns.heatmap(cm, annot=True, fmt='d', xticklabels=labels, yticklabels=labels)\n",
    "plt.xlabel('Predicted'); plt.ylabel('True'); plt.title('Confusion Matrix')\n",
    "plt.show()\n",
    "\n",
    "# Детальний classification report\n",
    "import pprint\n",
    "pprint.pprint(best['report'])\n"
   ]
  }
 ],
 "metadata": {
  "kernelspec": {
   "display_name": "Python 3",
   "language": "python",
   "name": "python3"
  },
  "language_info": {
   "codemirror_mode": {
    "name": "ipython",
    "version": 3
   },
   "file_extension": ".py",
   "mimetype": "text/x-python",
   "name": "python",
   "nbconvert_exporter": "python",
   "pygments_lexer": "ipython3",
   "version": "3.13.6"
  }
 },
 "nbformat": 4,
 "nbformat_minor": 5
}
